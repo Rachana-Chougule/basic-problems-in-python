{
 "cells": [
  {
   "cell_type": "code",
   "execution_count": null,
   "id": "4b26b344",
   "metadata": {},
   "outputs": [],
   "source": [
    "import csv\n",
    "import pandas as pd\n",
    "\n",
    "from csv import writer\n",
    " \n",
    "with open(\"train_up.csv\", 'r') as file:\n",
    "  csvreader = csv.reader(file)\n",
    "\n",
    "# List that we want to add as a new row\n",
    "\n",
    "Username = input('Hey, your Name please?\\n'  )\n",
    "Gender   = str(input('What is your Gender?\\n'))\n",
    "Age      = int(input('What is your Age?\\n'   ))\n",
    "\n",
    "data1 = {'Name': [Username], 'Gender': [Gender], 'Age': [Age] }\n",
    " \n",
    "# Make data frame of above data\n",
    "df = pd.DataFrame(data1)\n",
    " \n",
    "# append data frame to CSV file\n",
    "df.to_csv('train_up.csv', mode='a', index=False, header=False)\n",
    " "
   ]
  }
 ],
 "metadata": {
  "kernelspec": {
   "display_name": "Python 3 (ipykernel)",
   "language": "python",
   "name": "python3"
  },
  "language_info": {
   "codemirror_mode": {
    "name": "ipython",
    "version": 3
   },
   "file_extension": ".py",
   "mimetype": "text/x-python",
   "name": "python",
   "nbconvert_exporter": "python",
   "pygments_lexer": "ipython3",
   "version": "3.9.13"
  }
 },
 "nbformat": 4,
 "nbformat_minor": 5
}
